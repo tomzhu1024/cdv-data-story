{
 "cells": [
  {
   "cell_type": "code",
   "execution_count": 1,
   "id": "lesbian-pierre",
   "metadata": {
    "tags": []
   },
   "outputs": [],
   "source": [
    "# import libraries\n",
    "import numpy as np\n",
    "import pandas as pd\n",
    "import matplotlib.pyplot as plt\n",
    "import shapefile\n",
    "from fuzzywuzzy import process"
   ]
  },
  {
   "cell_type": "code",
   "execution_count": 2,
   "id": "concrete-waterproof",
   "metadata": {},
   "outputs": [
    {
     "data": {
      "text/html": [
       "<div>\n",
       "<style scoped>\n",
       "    .dataframe tbody tr th:only-of-type {\n",
       "        vertical-align: middle;\n",
       "    }\n",
       "\n",
       "    .dataframe tbody tr th {\n",
       "        vertical-align: top;\n",
       "    }\n",
       "\n",
       "    .dataframe thead th {\n",
       "        text-align: right;\n",
       "    }\n",
       "</style>\n",
       "<table border=\"1\" class=\"dataframe\">\n",
       "  <thead>\n",
       "    <tr style=\"text-align: right;\">\n",
       "      <th></th>\n",
       "      <th>0</th>\n",
       "      <th>1</th>\n",
       "      <th>2</th>\n",
       "      <th>3</th>\n",
       "      <th>4</th>\n",
       "    </tr>\n",
       "  </thead>\n",
       "  <tbody>\n",
       "    <tr>\n",
       "      <th>country</th>\n",
       "      <td>Afghanistan</td>\n",
       "      <td>Afghanistan</td>\n",
       "      <td>Afghanistan</td>\n",
       "      <td>Afghanistan</td>\n",
       "      <td>Afghanistan</td>\n",
       "    </tr>\n",
       "    <tr>\n",
       "      <th>region</th>\n",
       "      <td>Kabol</td>\n",
       "      <td>Kabol</td>\n",
       "      <td>Kabol</td>\n",
       "      <td>Kabol</td>\n",
       "      <td>Kabol</td>\n",
       "    </tr>\n",
       "    <tr>\n",
       "      <th>date</th>\n",
       "      <td>2010-07-15</td>\n",
       "      <td>2010-07-16</td>\n",
       "      <td>2010-07-17</td>\n",
       "      <td>2010-07-18</td>\n",
       "      <td>2010-07-19</td>\n",
       "    </tr>\n",
       "    <tr>\n",
       "      <th>download_kbps</th>\n",
       "      <td>226.6</td>\n",
       "      <td>270.211</td>\n",
       "      <td>313.048</td>\n",
       "      <td>360.694</td>\n",
       "      <td>447.529</td>\n",
       "    </tr>\n",
       "    <tr>\n",
       "      <th>upload_kbps</th>\n",
       "      <td>105.9</td>\n",
       "      <td>106.895</td>\n",
       "      <td>114.143</td>\n",
       "      <td>109.863</td>\n",
       "      <td>105.736</td>\n",
       "    </tr>\n",
       "    <tr>\n",
       "      <th>total_tests</th>\n",
       "      <td>10</td>\n",
       "      <td>19</td>\n",
       "      <td>21</td>\n",
       "      <td>31</td>\n",
       "      <td>35</td>\n",
       "    </tr>\n",
       "    <tr>\n",
       "      <th>distance_miles</th>\n",
       "      <td>244.01</td>\n",
       "      <td>238.295</td>\n",
       "      <td>237.076</td>\n",
       "      <td>234.949</td>\n",
       "      <td>236.993</td>\n",
       "    </tr>\n",
       "  </tbody>\n",
       "</table>\n",
       "</div>"
      ],
      "text/plain": [
       "                          0            1            2            3  \\\n",
       "country         Afghanistan  Afghanistan  Afghanistan  Afghanistan   \n",
       "region                Kabol        Kabol        Kabol        Kabol   \n",
       "date             2010-07-15   2010-07-16   2010-07-17   2010-07-18   \n",
       "download_kbps         226.6      270.211      313.048      360.694   \n",
       "upload_kbps           105.9      106.895      114.143      109.863   \n",
       "total_tests              10           19           21           31   \n",
       "distance_miles       244.01      238.295      237.076      234.949   \n",
       "\n",
       "                          4  \n",
       "country         Afghanistan  \n",
       "region                Kabol  \n",
       "date             2010-07-19  \n",
       "download_kbps       447.529  \n",
       "upload_kbps         105.736  \n",
       "total_tests              35  \n",
       "distance_miles      236.993  "
      ]
     },
     "execution_count": 2,
     "metadata": {},
     "output_type": "execute_result"
    }
   ],
   "source": [
    "# load netindex dataset\n",
    "nidf = pd.read_csv('./net_index/region_daily_speeds.csv')\n",
    "nidf.head().T"
   ]
  },
  {
   "cell_type": "code",
   "execution_count": 3,
   "id": "entitled-nylon",
   "metadata": {},
   "outputs": [
    {
     "data": {
      "text/plain": [
       "[('United Kingdom',),\n",
       " ('Russian Federation',),\n",
       " ('United States',),\n",
       " ('Turkey',),\n",
       " ('Thailand',)]"
      ]
     },
     "execution_count": 3,
     "metadata": {},
     "output_type": "execute_result"
    }
   ],
   "source": [
    "# extract country names\n",
    "country_names_to_match = list(nidf[['country']].value_counts().to_dict().keys())\n",
    "country_names_to_match[:5]"
   ]
  },
  {
   "cell_type": "code",
   "execution_count": 4,
   "id": "mounted-budapest",
   "metadata": {},
   "outputs": [],
   "source": [
    "# load gadm36 shapefile\n",
    "gsf = shapefile.Reader('./gadm36_levels_shp/gadm36_1')"
   ]
  },
  {
   "cell_type": "code",
   "execution_count": 5,
   "id": "assured-aberdeen",
   "metadata": {},
   "outputs": [
    {
     "data": {
      "text/plain": [
       "['GID_0',\n",
       " 'NAME_0',\n",
       " 'GID_1',\n",
       " 'NAME_1',\n",
       " 'VARNAME_1',\n",
       " 'NL_NAME_1',\n",
       " 'TYPE_1',\n",
       " 'ENGTYPE_1',\n",
       " 'CC_1',\n",
       " 'HASC_1']"
      ]
     },
     "execution_count": 5,
     "metadata": {},
     "output_type": "execute_result"
    }
   ],
   "source": [
    "# show shapefile fields\n",
    "[field[0] for field in gsf.fields[1:]]"
   ]
  },
  {
   "cell_type": "code",
   "execution_count": 6,
   "id": "confirmed-craft",
   "metadata": {},
   "outputs": [
    {
     "data": {
      "text/plain": [
       "['Afghanistan', 'Angola', 'Åland', 'Albania', 'Andorra']"
      ]
     },
     "execution_count": 6,
     "metadata": {},
     "output_type": "execute_result"
    }
   ],
   "source": [
    "# load country names from shapefile\n",
    "gdf = pd.DataFrame(\n",
    "    [\n",
    "        [\n",
    "            record[1],\n",
    "            record[3],\n",
    "            [\n",
    "                *(record[4].split('|')),\n",
    "                *(record[5].split('|'))\n",
    "            ]\n",
    "        ] for record in gsf.iterRecords()\n",
    "    ],\n",
    "    columns=['country', 'region', 'region_alt']\n",
    ")\n",
    "country_name_choices = list(gdf['country'].unique())\n",
    "country_name_choices[:5]"
   ]
  },
  {
   "cell_type": "code",
   "execution_count": 7,
   "id": "revised-lebanon",
   "metadata": {},
   "outputs": [
    {
     "name": "stdout",
     "output_type": "stream",
     "text": [
      "Russian Federation => [('Russia', 90), ('Iran', 68), ('Spain', 54)]\n",
      "Iran, Islamic Republic of => [('Iran', 90), ('Czech Republic', 86), ('Isle of Man', 86)]\n",
      "Kazakstan => [('Kazakhstan', 95), ('Pakistan', 71), ('Kyrgyzstan', 63)]\n",
      "Korea, Republic of => [('Democratic Republic of the Congo', 86), ('Isle of Man', 86), ('South Korea', 86)]\n",
      "Moldova, Republic of => [('Moldova', 90), ('Democratic Republic of the Congo', 86), ('Isle of Man', 86)]\n",
      "Syrian Arab Republic => [('Syria', 90), ('Democratic Republic of the Congo', 86), ('Czech Republic', 69)]\n",
      "Palestinian Territory => [('Palestina', 80), ('Estonia', 77), ('India', 72)]\n",
      "Macau => [('Macao', 80), ('Jamaica', 67), ('Malta', 60)]\n",
      "Aruba => [('Barbados', 72), ('Cuba', 67), ('Paraguay', 62)]\n",
      "Lao People's Democratic Republic => [('Republic of Congo', 86), ('Czech Republic', 86), ('Dominican Republic', 86)]\n",
      "Gibraltar => [('Malta', 72), ('Qatar', 72), ('Iran', 68)]\n",
      "Maldives => [('Mali', 68), ('Malawi', 57), ('Bangladesh', 56)]\n",
      "Virgin Islands, British => [('British Virgin Islands', 95), ('Åland', 90), ('Cayman Islands', 86)]\n",
      "Anguilla => [('Angola', 71), ('Guinea', 57), ('Antigua and Barbuda', 56)]\n",
      "Tanzania, United Republic of => [('Tanzania', 90), ('Republic of Congo', 86), ('Czech Republic', 86)]\n",
      "Cote D'Ivoire => [(\"Côte d'Ivoire\", 96), ('Cape Verde', 52), ('South Korea', 50)]\n",
      "Brunei Darussalam => [('Brunei', 90), ('Russia', 75), ('Burundi', 64)]\n",
      "Netherlands Antilles => [('Åland', 90), ('Netherlands', 90), ('Iran', 68)]\n",
      "Aland Islands => [('Åland', 90), ('Northern Mariana Islands', 86), ('Turks and Caicos Islands', 86)]\n",
      "Curacao => [('Cuba', 68), ('Macao', 67), ('Ecuador', 57)]\n",
      "Libyan Arab Jamahiriya => [('Libya', 90), ('Mali', 68), ('Jamaica', 64)]\n",
      "Saint Martin => [('Saint Kitts and Nevis', 86), ('Saint Pierre and Miquelon', 86), ('Saint Vincent and the Grenadines', 86)]\n",
      "OK 167 FAIL 22\n"
     ]
    }
   ],
   "source": [
    "# match countries and fuzzy match failed cases\n",
    "ok_count = 0\n",
    "fail_count = 0\n",
    "\n",
    "for country_name in country_names_to_match:\n",
    "    country_name = country_name[0]\n",
    "    if gdf[gdf['country'] == country_name].shape[0] != 0:\n",
    "        ok_count += 1\n",
    "    else:\n",
    "        print(country_name, '=>', process.extract(country_name, country_name_choices, limit=3))\n",
    "        fail_count += 1\n",
    "\n",
    "print('OK', ok_count, 'FAIL', fail_count)"
   ]
  },
  {
   "cell_type": "code",
   "execution_count": 8,
   "id": "blind-dominant",
   "metadata": {},
   "outputs": [],
   "source": [
    "# manually correct netindex dataset\n",
    "nidf.replace({'country': 'Russian Federation'}, 'Russia', inplace=True)\n",
    "nidf.replace({'country': 'Korea, Republic of'}, 'South Korea', inplace=True)\n",
    "nidf.replace({'country': 'Kazakstan'}, 'Kazakhstan', inplace=True)\n",
    "nidf.replace({'country': 'Iran, Islamic Republic of'}, 'Iran', inplace=True)\n",
    "nidf.replace({'country': 'Palestinian Territory'}, 'Palestina', inplace=True)\n",
    "nidf.replace({'country': 'Moldova, Republic of'}, 'Moldova', inplace=True)\n",
    "nidf.replace({'country': 'Syrian Arab Republic'}, 'Syria', inplace=True)\n",
    "nidf.replace({'country': 'Brunei Darussalam'}, 'Brunei', inplace=True)\n",
    "nidf.replace({'country': 'Macau'}, 'Macao', inplace=True)\n",
    "nidf.replace({'country': 'Netherlands Antilles'}, 'Netherlands', inplace=True)\n",
    "nidf.drop(nidf.loc[nidf['country'] == 'Aruba'].index, inplace=True)\n",
    "nidf.drop(nidf.loc[nidf['country'] == 'Lao People\\'s Democratic Republic'].index, inplace=True)\n",
    "nidf.drop(nidf.loc[nidf['country'] == 'Gibraltar'].index, inplace=True)\n",
    "nidf.drop(nidf.loc[nidf['country'] == 'Maldives'].index, inplace=True)\n",
    "nidf.replace({'country': 'Virgin Islands, British'}, 'British Virgin Islands', inplace=True)\n",
    "nidf.drop(nidf.loc[nidf['country'] == 'Anguilla'].index, inplace=True)\n",
    "nidf.replace({'country': 'Tanzania, United Republic of'}, 'Tanzania', inplace=True)\n",
    "nidf.replace({'country': 'Cote D\\'Ivoire'}, 'Côte d\\'Ivoire', inplace=True)\n",
    "nidf.replace({'country': 'Aland Islands'}, 'Åland', inplace=True)\n",
    "nidf.drop(nidf.loc[nidf['country'] == 'Curacao'].index, inplace=True)\n",
    "nidf.replace({'country': 'Libyan Arab Jamahiriya'}, 'Libya', inplace=True)\n",
    "nidf.drop(nidf.loc[nidf['country'] == 'Saint Martin'].index, inplace=True)"
   ]
  },
  {
   "cell_type": "code",
   "execution_count": 9,
   "id": "crucial-bangkok",
   "metadata": {},
   "outputs": [
    {
     "name": "stdout",
     "output_type": "stream",
     "text": [
      "OK 181 FAIL 0\n"
     ]
    }
   ],
   "source": [
    "# match again to validate\n",
    "ok_count = 0\n",
    "fail_count = 0\n",
    "\n",
    "for country in list(nidf[['country']].value_counts().to_dict().keys()):\n",
    "    country = country[0]\n",
    "    if gdf[gdf['country'] == country].shape[0] != 0:\n",
    "        ok_count += 1\n",
    "    else:\n",
    "        print(country)\n",
    "        fail_count += 1\n",
    "        \n",
    "print('OK', ok_count, 'FAIL', fail_count)"
   ]
  },
  {
   "cell_type": "code",
   "execution_count": 10,
   "id": "cooperative-format",
   "metadata": {},
   "outputs": [
    {
     "data": {
      "text/plain": [
       "[('Norway', 'Vest-Agder'),\n",
       " ('Turkey', 'Ankara'),\n",
       " ('United Kingdom', 'North Tyneside'),\n",
       " ('United Kingdom', 'North Somerset'),\n",
       " ('Indonesia', 'Yogyakarta')]"
      ]
     },
     "execution_count": 10,
     "metadata": {},
     "output_type": "execute_result"
    }
   ],
   "source": [
    "# extract country and region names\n",
    "# NOTE THAT all country names are valid now\n",
    "countryregion_names_to_match = list(nidf[['country', 'region']].value_counts().to_dict().keys())\n",
    "countryregion_names_to_match[:5]"
   ]
  },
  {
   "cell_type": "code",
   "execution_count": 11,
   "id": "fuzzy-actress",
   "metadata": {},
   "outputs": [
    {
     "data": {
      "text/plain": [
       "['Anhui', 'Beijing', 'Chongqing', 'Fujian', 'Gansu']"
      ]
     },
     "execution_count": 11,
     "metadata": {},
     "output_type": "execute_result"
    }
   ],
   "source": [
    "# load region names of each country from shapefile\n",
    "countryregion_name_choices = dict(zip(\n",
    "    country_name_choices,\n",
    "    [gdf[gdf['country'] == country_name]['region'].to_list() for country_name in country_name_choices]\n",
    "))\n",
    "countryregion_name_choices['China'][:5]"
   ]
  },
  {
   "cell_type": "code",
   "execution_count": 12,
   "id": "universal-nature",
   "metadata": {},
   "outputs": [
    {
     "data": {
      "text/plain": [
       "[['Ānhuī', '安徽', '安徽'],\n",
       " ['Běijīng', '北京', '北京'],\n",
       " ['Chóngqìng', '重慶', '重庆'],\n",
       " ['Fújiàn', '福建'],\n",
       " ['Gānsù', '甘肅', '甘肃']]"
      ]
     },
     "execution_count": 12,
     "metadata": {},
     "output_type": "execute_result"
    }
   ],
   "source": [
    "# load region alt names of each country from shapefile\n",
    "countryregion_alt_name_choices = dict(zip(\n",
    "    country_name_choices,\n",
    "    [gdf[gdf['country'] == country_name]['region_alt'].to_list() for country_name in country_name_choices]\n",
    "))\n",
    "countryregion_alt_name_choices['China'][:5]"
   ]
  },
  {
   "cell_type": "code",
   "execution_count": 13,
   "id": "prerequisite-clearance",
   "metadata": {},
   "outputs": [
    {
     "name": "stdout",
     "output_type": "stream",
     "text": [
      "1861\n",
      "OK 1025 ALT 140 FM 110 FAIL 586\n"
     ]
    }
   ],
   "source": [
    "ok_count = 0\n",
    "alt_count = 0\n",
    "fm_count = 0\n",
    "fail_count = 0\n",
    "\n",
    "print(len(countryregion_names_to_match))\n",
    "\n",
    "for countryregion_name in countryregion_names_to_match:\n",
    "    country_name = countryregion_name[0]\n",
    "    region_name = countryregion_name[1]\n",
    "    \n",
    "    if region_name in countryregion_name_choices[country_name] or region_name == r'\\N':\n",
    "        ok_count += 1\n",
    "    else:\n",
    "        # check alt names\n",
    "        alt_flag = False\n",
    "        for i in range(len(countryregion_alt_name_choices[country_name])):\n",
    "            if region_name in countryregion_alt_name_choices[country_name][i]:\n",
    "                nidf.loc[(nidf['country'] == country_name) & (nidf['region'] == region_name), 'region'] = countryregion_name_choices[country_name][i]\n",
    "                alt_count += 1\n",
    "                alt_flag = True\n",
    "                break\n",
    "        # fuzzy match\n",
    "        fm_flag = False\n",
    "        if not alt_flag:\n",
    "            fm_results = process.extractOne(region_name, countryregion_name_choices[country_name])\n",
    "            if fm_results[1] > 90:\n",
    "                nidf.loc[(nidf['country'] == country_name) & (nidf['region'] == region_name), 'region'] = fm_results[0]\n",
    "                fm_count += 1\n",
    "                fm_flag = True\n",
    "        # fallback\n",
    "        if not alt_flag and not fm_flag:\n",
    "            nidf.drop(nidf.loc[(nidf['country'] == country_name) & (nidf['region'] == region_name)].index, inplace=True)\n",
    "            fail_count += 1\n",
    "\n",
    "print('OK', ok_count, 'ALT', alt_count, 'FM', fm_count, 'FAIL', fail_count)"
   ]
  },
  {
   "cell_type": "code",
   "execution_count": 14,
   "id": "rising-curve",
   "metadata": {},
   "outputs": [],
   "source": [
    "nidf.to_csv('net_index/region_daily_speeds_name_matched.csv', index=False)"
   ]
  },
  {
   "cell_type": "code",
   "execution_count": null,
   "id": "taken-massachusetts",
   "metadata": {},
   "outputs": [],
   "source": []
  }
 ],
 "metadata": {
  "kernelspec": {
   "display_name": "Python 3",
   "language": "python",
   "name": "python3"
  },
  "language_info": {
   "codemirror_mode": {
    "name": "ipython",
    "version": 3
   },
   "file_extension": ".py",
   "mimetype": "text/x-python",
   "name": "python",
   "nbconvert_exporter": "python",
   "pygments_lexer": "ipython3",
   "version": "3.7.10"
  }
 },
 "nbformat": 4,
 "nbformat_minor": 5
}
