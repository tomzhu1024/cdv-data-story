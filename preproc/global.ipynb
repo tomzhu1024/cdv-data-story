{
 "cells": [
  {
   "cell_type": "code",
   "execution_count": 1,
   "id": "endangered-national",
   "metadata": {},
   "outputs": [],
   "source": [
    "import numpy as np\n",
    "import pandas as pd\n",
    "import shapefile\n",
    "from fuzzywuzzy import process\n",
    "import json"
   ]
  },
  {
   "cell_type": "code",
   "execution_count": 2,
   "id": "still-apartment",
   "metadata": {},
   "outputs": [
    {
     "name": "stderr",
     "output_type": "stream",
     "text": [
      "c:\\users\\tomzh\\miniconda3\\envs\\ml\\lib\\site-packages\\IPython\\core\\interactiveshell.py:3166: DtypeWarning: Columns (3) have mixed types.Specify dtype option on import or set low_memory=False.\n",
      "  interactivity=interactivity, compiler=compiler, result=result)\n"
     ]
    },
    {
     "data": {
      "text/html": [
       "<div>\n",
       "<style scoped>\n",
       "    .dataframe tbody tr th:only-of-type {\n",
       "        vertical-align: middle;\n",
       "    }\n",
       "\n",
       "    .dataframe tbody tr th {\n",
       "        vertical-align: top;\n",
       "    }\n",
       "\n",
       "    .dataframe thead th {\n",
       "        text-align: right;\n",
       "    }\n",
       "</style>\n",
       "<table border=\"1\" class=\"dataframe\">\n",
       "  <thead>\n",
       "    <tr style=\"text-align: right;\">\n",
       "      <th></th>\n",
       "      <th>0</th>\n",
       "      <th>1</th>\n",
       "      <th>2</th>\n",
       "      <th>3</th>\n",
       "      <th>4</th>\n",
       "    </tr>\n",
       "  </thead>\n",
       "  <tbody>\n",
       "    <tr>\n",
       "      <th>country</th>\n",
       "      <td>El Salvador</td>\n",
       "      <td>El Salvador</td>\n",
       "      <td>El Salvador</td>\n",
       "      <td>El Salvador</td>\n",
       "      <td>El Salvador</td>\n",
       "    </tr>\n",
       "    <tr>\n",
       "      <th>country_code</th>\n",
       "      <td>SV</td>\n",
       "      <td>SV</td>\n",
       "      <td>SV</td>\n",
       "      <td>SV</td>\n",
       "      <td>SV</td>\n",
       "    </tr>\n",
       "    <tr>\n",
       "      <th>region</th>\n",
       "      <td>San Salvador</td>\n",
       "      <td>San Salvador</td>\n",
       "      <td>San Salvador</td>\n",
       "      <td>San Salvador</td>\n",
       "      <td>San Salvador</td>\n",
       "    </tr>\n",
       "    <tr>\n",
       "      <th>region_code</th>\n",
       "      <td>10</td>\n",
       "      <td>10</td>\n",
       "      <td>10</td>\n",
       "      <td>10</td>\n",
       "      <td>10</td>\n",
       "    </tr>\n",
       "    <tr>\n",
       "      <th>city</th>\n",
       "      <td>San Salvador</td>\n",
       "      <td>San Salvador</td>\n",
       "      <td>San Salvador</td>\n",
       "      <td>San Salvador</td>\n",
       "      <td>San Salvador</td>\n",
       "    </tr>\n",
       "    <tr>\n",
       "      <th>date</th>\n",
       "      <td>2008-01-01</td>\n",
       "      <td>2008-01-02</td>\n",
       "      <td>2008-01-03</td>\n",
       "      <td>2008-01-04</td>\n",
       "      <td>2008-01-05</td>\n",
       "    </tr>\n",
       "    <tr>\n",
       "      <th>download_kbps</th>\n",
       "      <td>1121.51</td>\n",
       "      <td>1119.04</td>\n",
       "      <td>1120.72</td>\n",
       "      <td>1126.98</td>\n",
       "      <td>1123.01</td>\n",
       "    </tr>\n",
       "    <tr>\n",
       "      <th>upload_kbps</th>\n",
       "      <td>381.828</td>\n",
       "      <td>383.921</td>\n",
       "      <td>387.055</td>\n",
       "      <td>386.264</td>\n",
       "      <td>381.804</td>\n",
       "    </tr>\n",
       "    <tr>\n",
       "      <th>total_tests</th>\n",
       "      <td>4583</td>\n",
       "      <td>4631</td>\n",
       "      <td>4494</td>\n",
       "      <td>4331</td>\n",
       "      <td>4184</td>\n",
       "    </tr>\n",
       "    <tr>\n",
       "      <th>distance_miles</th>\n",
       "      <td>21.6485</td>\n",
       "      <td>21.3162</td>\n",
       "      <td>21.9008</td>\n",
       "      <td>22.0836</td>\n",
       "      <td>22.1806</td>\n",
       "    </tr>\n",
       "  </tbody>\n",
       "</table>\n",
       "</div>"
      ],
      "text/plain": [
       "                           0             1             2             3  \\\n",
       "country          El Salvador   El Salvador   El Salvador   El Salvador   \n",
       "country_code              SV            SV            SV            SV   \n",
       "region          San Salvador  San Salvador  San Salvador  San Salvador   \n",
       "region_code               10            10            10            10   \n",
       "city            San Salvador  San Salvador  San Salvador  San Salvador   \n",
       "date              2008-01-01    2008-01-02    2008-01-03    2008-01-04   \n",
       "download_kbps        1121.51       1119.04       1120.72       1126.98   \n",
       "upload_kbps          381.828       383.921       387.055       386.264   \n",
       "total_tests             4583          4631          4494          4331   \n",
       "distance_miles       21.6485       21.3162       21.9008       22.0836   \n",
       "\n",
       "                           4  \n",
       "country          El Salvador  \n",
       "country_code              SV  \n",
       "region          San Salvador  \n",
       "region_code               10  \n",
       "city            San Salvador  \n",
       "date              2008-01-05  \n",
       "download_kbps        1123.01  \n",
       "upload_kbps          381.804  \n",
       "total_tests             4184  \n",
       "distance_miles       22.1806  "
      ]
     },
     "execution_count": 2,
     "metadata": {},
     "output_type": "execute_result"
    }
   ],
   "source": [
    "# load netindex dataset\n",
    "nidf = pd.read_csv('net_index/city_daily_speeds.csv')\n",
    "nidf.head().T"
   ]
  },
  {
   "cell_type": "code",
   "execution_count": 3,
   "id": "collective-whale",
   "metadata": {},
   "outputs": [
    {
     "data": {
      "text/html": [
       "<div>\n",
       "<style scoped>\n",
       "    .dataframe tbody tr th:only-of-type {\n",
       "        vertical-align: middle;\n",
       "    }\n",
       "\n",
       "    .dataframe tbody tr th {\n",
       "        vertical-align: top;\n",
       "    }\n",
       "\n",
       "    .dataframe thead th {\n",
       "        text-align: right;\n",
       "    }\n",
       "</style>\n",
       "<table border=\"1\" class=\"dataframe\">\n",
       "  <thead>\n",
       "    <tr style=\"text-align: right;\">\n",
       "      <th></th>\n",
       "      <th>0</th>\n",
       "      <th>1</th>\n",
       "      <th>2</th>\n",
       "      <th>3</th>\n",
       "      <th>4</th>\n",
       "    </tr>\n",
       "  </thead>\n",
       "  <tbody>\n",
       "    <tr>\n",
       "      <th>country</th>\n",
       "      <td>El Salvador</td>\n",
       "      <td>El Salvador</td>\n",
       "      <td>El Salvador</td>\n",
       "      <td>El Salvador</td>\n",
       "      <td>El Salvador</td>\n",
       "    </tr>\n",
       "    <tr>\n",
       "      <th>region</th>\n",
       "      <td>San Salvador</td>\n",
       "      <td>San Salvador</td>\n",
       "      <td>San Salvador</td>\n",
       "      <td>San Salvador</td>\n",
       "      <td>San Salvador</td>\n",
       "    </tr>\n",
       "    <tr>\n",
       "      <th>city</th>\n",
       "      <td>San Salvador</td>\n",
       "      <td>San Salvador</td>\n",
       "      <td>San Salvador</td>\n",
       "      <td>San Salvador</td>\n",
       "      <td>San Salvador</td>\n",
       "    </tr>\n",
       "    <tr>\n",
       "      <th>date</th>\n",
       "      <td>2008-01-01</td>\n",
       "      <td>2008-01-02</td>\n",
       "      <td>2008-01-03</td>\n",
       "      <td>2008-01-04</td>\n",
       "      <td>2008-01-05</td>\n",
       "    </tr>\n",
       "    <tr>\n",
       "      <th>download_kbps</th>\n",
       "      <td>1121.51</td>\n",
       "      <td>1119.04</td>\n",
       "      <td>1120.72</td>\n",
       "      <td>1126.98</td>\n",
       "      <td>1123.01</td>\n",
       "    </tr>\n",
       "    <tr>\n",
       "      <th>upload_kbps</th>\n",
       "      <td>381.828</td>\n",
       "      <td>383.921</td>\n",
       "      <td>387.055</td>\n",
       "      <td>386.264</td>\n",
       "      <td>381.804</td>\n",
       "    </tr>\n",
       "    <tr>\n",
       "      <th>total_tests</th>\n",
       "      <td>4583</td>\n",
       "      <td>4631</td>\n",
       "      <td>4494</td>\n",
       "      <td>4331</td>\n",
       "      <td>4184</td>\n",
       "    </tr>\n",
       "    <tr>\n",
       "      <th>distance_miles</th>\n",
       "      <td>21.6485</td>\n",
       "      <td>21.3162</td>\n",
       "      <td>21.9008</td>\n",
       "      <td>22.0836</td>\n",
       "      <td>22.1806</td>\n",
       "    </tr>\n",
       "  </tbody>\n",
       "</table>\n",
       "</div>"
      ],
      "text/plain": [
       "                           0             1             2             3  \\\n",
       "country          El Salvador   El Salvador   El Salvador   El Salvador   \n",
       "region          San Salvador  San Salvador  San Salvador  San Salvador   \n",
       "city            San Salvador  San Salvador  San Salvador  San Salvador   \n",
       "date              2008-01-01    2008-01-02    2008-01-03    2008-01-04   \n",
       "download_kbps        1121.51       1119.04       1120.72       1126.98   \n",
       "upload_kbps          381.828       383.921       387.055       386.264   \n",
       "total_tests             4583          4631          4494          4331   \n",
       "distance_miles       21.6485       21.3162       21.9008       22.0836   \n",
       "\n",
       "                           4  \n",
       "country          El Salvador  \n",
       "region          San Salvador  \n",
       "city            San Salvador  \n",
       "date              2008-01-05  \n",
       "download_kbps        1123.01  \n",
       "upload_kbps          381.804  \n",
       "total_tests             4184  \n",
       "distance_miles       22.1806  "
      ]
     },
     "execution_count": 3,
     "metadata": {},
     "output_type": "execute_result"
    }
   ],
   "source": [
    "# drop unwanted columns\n",
    "nidf.drop(columns=['country_code', 'region_code'], inplace=True)\n",
    "nidf.head().T"
   ]
  },
  {
   "cell_type": "code",
   "execution_count": 4,
   "id": "yellow-theorem",
   "metadata": {},
   "outputs": [
    {
     "data": {
      "text/html": [
       "<div>\n",
       "<style scoped>\n",
       "    .dataframe tbody tr th:only-of-type {\n",
       "        vertical-align: middle;\n",
       "    }\n",
       "\n",
       "    .dataframe tbody tr th {\n",
       "        vertical-align: top;\n",
       "    }\n",
       "\n",
       "    .dataframe thead th {\n",
       "        text-align: right;\n",
       "    }\n",
       "</style>\n",
       "<table border=\"1\" class=\"dataframe\">\n",
       "  <thead>\n",
       "    <tr style=\"text-align: right;\">\n",
       "      <th></th>\n",
       "      <th>0</th>\n",
       "      <th>1</th>\n",
       "      <th>2</th>\n",
       "      <th>3</th>\n",
       "      <th>4</th>\n",
       "    </tr>\n",
       "  </thead>\n",
       "  <tbody>\n",
       "    <tr>\n",
       "      <th>country</th>\n",
       "      <td>Afghanistan</td>\n",
       "      <td>Afghanistan</td>\n",
       "      <td>Afghanistan</td>\n",
       "      <td>Afghanistan</td>\n",
       "      <td>Afghanistan</td>\n",
       "    </tr>\n",
       "    <tr>\n",
       "      <th>date</th>\n",
       "      <td>2010-07-15</td>\n",
       "      <td>2010-07-16</td>\n",
       "      <td>2010-07-17</td>\n",
       "      <td>2010-07-18</td>\n",
       "      <td>2010-07-19</td>\n",
       "    </tr>\n",
       "    <tr>\n",
       "      <th>download_kbps</th>\n",
       "      <td>226.6</td>\n",
       "      <td>270.211</td>\n",
       "      <td>313.048</td>\n",
       "      <td>360.694</td>\n",
       "      <td>447.529</td>\n",
       "    </tr>\n",
       "    <tr>\n",
       "      <th>upload_kbps</th>\n",
       "      <td>105.9</td>\n",
       "      <td>106.895</td>\n",
       "      <td>114.143</td>\n",
       "      <td>109.863</td>\n",
       "      <td>105.736</td>\n",
       "    </tr>\n",
       "    <tr>\n",
       "      <th>total_tests</th>\n",
       "      <td>10</td>\n",
       "      <td>19</td>\n",
       "      <td>21</td>\n",
       "      <td>31</td>\n",
       "      <td>35</td>\n",
       "    </tr>\n",
       "    <tr>\n",
       "      <th>distance_miles</th>\n",
       "      <td>244.01</td>\n",
       "      <td>238.295</td>\n",
       "      <td>237.076</td>\n",
       "      <td>234.949</td>\n",
       "      <td>236.993</td>\n",
       "    </tr>\n",
       "  </tbody>\n",
       "</table>\n",
       "</div>"
      ],
      "text/plain": [
       "                          0            1            2            3  \\\n",
       "country         Afghanistan  Afghanistan  Afghanistan  Afghanistan   \n",
       "date             2010-07-15   2010-07-16   2010-07-17   2010-07-18   \n",
       "download_kbps         226.6      270.211      313.048      360.694   \n",
       "upload_kbps           105.9      106.895      114.143      109.863   \n",
       "total_tests              10           19           21           31   \n",
       "distance_miles       244.01      238.295      237.076      234.949   \n",
       "\n",
       "                          4  \n",
       "country         Afghanistan  \n",
       "date             2010-07-19  \n",
       "download_kbps       447.529  \n",
       "upload_kbps         105.736  \n",
       "total_tests              35  \n",
       "distance_miles      236.993  "
      ]
     },
     "execution_count": 4,
     "metadata": {},
     "output_type": "execute_result"
    }
   ],
   "source": [
    "# group by country and date and calculate mean\n",
    "nidf = nidf.groupby(['country', 'date']).agg({\n",
    "    'download_kbps':'mean',\n",
    "    'upload_kbps':'mean',\n",
    "    'total_tests':'sum',\n",
    "    'distance_miles': 'mean'\n",
    "}).reset_index()\n",
    "nidf.head().T"
   ]
  },
  {
   "cell_type": "code",
   "execution_count": 5,
   "id": "hazardous-investing",
   "metadata": {},
   "outputs": [],
   "source": [
    "# validate country names\n",
    "gsf = shapefile.Reader('./gadm36_levels_shp/gadm36_0')\n",
    "gdf = pd.DataFrame([record[1] for record in gsf.iterRecords()], columns=['country'])"
   ]
  },
  {
   "cell_type": "code",
   "execution_count": 6,
   "id": "billion-strategy",
   "metadata": {},
   "outputs": [
    {
     "name": "stdout",
     "output_type": "stream",
     "text": [
      "Aland Islands\n",
      "Brunei Darussalam\n",
      "Cote D'Ivoire\n",
      "Curacao\n",
      "Iran, Islamic Republic of\n",
      "Kazakstan\n",
      "Korea, Republic of\n",
      "Lao People's Democratic Republic\n",
      "Libyan Arab Jamahiriya\n",
      "Macau\n",
      "Moldova, Republic of\n",
      "Netherlands Antilles\n",
      "Palestinian Territory\n",
      "Russian Federation\n",
      "Saint Martin\n",
      "Syrian Arab Republic\n",
      "Tanzania, United Republic of\n",
      "Virgin Islands, British\n",
      "OK 171 FAIL 18\n"
     ]
    }
   ],
   "source": [
    "ok_count = 0\n",
    "fail_count = 0\n",
    "\n",
    "for country in nidf['country'].unique():\n",
    "    if gdf[gdf['country'] == country].shape[0] != 0:\n",
    "        ok_count += 1\n",
    "    else:\n",
    "        print(country)\n",
    "        fail_count += 1\n",
    "\n",
    "print('OK', ok_count, 'FAIL', fail_count)"
   ]
  },
  {
   "cell_type": "code",
   "execution_count": 7,
   "id": "handmade-count",
   "metadata": {},
   "outputs": [],
   "source": [
    "# manually correct netindex dataset\n",
    "nidf.replace({'country': 'Russian Federation'}, 'Russia', inplace=True)\n",
    "nidf.replace({'country': 'Korea, Republic of'}, 'South Korea', inplace=True)\n",
    "nidf.replace({'country': 'Kazakstan'}, 'Kazakhstan', inplace=True)\n",
    "nidf.replace({'country': 'Iran, Islamic Republic of'}, 'Iran', inplace=True)\n",
    "nidf.replace({'country': 'Palestinian Territory'}, 'Palestina', inplace=True)\n",
    "nidf.replace({'country': 'Moldova, Republic of'}, 'Moldova', inplace=True)\n",
    "nidf.replace({'country': 'Syrian Arab Republic'}, 'Syria', inplace=True)\n",
    "nidf.replace({'country': 'Brunei Darussalam'}, 'Brunei', inplace=True)\n",
    "nidf.replace({'country': 'Macau'}, 'Macao', inplace=True)\n",
    "nidf.replace({'country': 'Netherlands Antilles'}, 'Netherlands', inplace=True)\n",
    "nidf.drop(nidf.loc[nidf['country'] == 'Aruba'].index, inplace=True)\n",
    "nidf.drop(nidf.loc[nidf['country'] == 'Lao People\\'s Democratic Republic'].index, inplace=True)\n",
    "nidf.drop(nidf.loc[nidf['country'] == 'Gibraltar'].index, inplace=True)\n",
    "nidf.drop(nidf.loc[nidf['country'] == 'Maldives'].index, inplace=True)\n",
    "nidf.replace({'country': 'Virgin Islands, British'}, 'British Virgin Islands', inplace=True)\n",
    "nidf.drop(nidf.loc[nidf['country'] == 'Anguilla'].index, inplace=True)\n",
    "nidf.replace({'country': 'Tanzania, United Republic of'}, 'Tanzania', inplace=True)\n",
    "nidf.replace({'country': 'Cote D\\'Ivoire'}, 'Côte d\\'Ivoire', inplace=True)\n",
    "nidf.replace({'country': 'Aland Islands'}, 'Åland', inplace=True)\n",
    "nidf.drop(nidf.loc[nidf['country'] == 'Curacao'].index, inplace=True)\n",
    "nidf.replace({'country': 'Libyan Arab Jamahiriya'}, 'Libya', inplace=True)\n",
    "nidf.drop(nidf.loc[nidf['country'] == 'Saint Martin'].index, inplace=True)"
   ]
  },
  {
   "cell_type": "code",
   "execution_count": 8,
   "id": "minus-place",
   "metadata": {},
   "outputs": [
    {
     "name": "stdout",
     "output_type": "stream",
     "text": [
      "OK 181 FAIL 0\n"
     ]
    }
   ],
   "source": [
    "ok_count = 0\n",
    "fail_count = 0\n",
    "\n",
    "for country in nidf['country'].unique():\n",
    "    if gdf[gdf['country'] == country].shape[0] != 0:\n",
    "        ok_count += 1\n",
    "    else:\n",
    "        print(country)\n",
    "        fail_count += 1\n",
    "\n",
    "print('OK', ok_count, 'FAIL', fail_count)"
   ]
  },
  {
   "cell_type": "code",
   "execution_count": 9,
   "id": "former-values",
   "metadata": {},
   "outputs": [
    {
     "data": {
      "text/plain": [
       "['Netherlands', 'Italy', 'Mexico', 'Malaysia', 'Macedonia']"
      ]
     },
     "execution_count": 9,
     "metadata": {},
     "output_type": "execute_result"
    }
   ],
   "source": [
    "country_names = [country[0] for country in nidf[['country']].value_counts().index.to_list()]\n",
    "country_names[:5]"
   ]
  },
  {
   "cell_type": "code",
   "execution_count": 10,
   "id": "promising-month",
   "metadata": {},
   "outputs": [
    {
     "data": {
      "text/plain": [
       "'2008-01-01'"
      ]
     },
     "execution_count": 10,
     "metadata": {},
     "output_type": "execute_result"
    }
   ],
   "source": [
    "nidf['date'].min()"
   ]
  },
  {
   "cell_type": "code",
   "execution_count": 11,
   "id": "dominican-administrator",
   "metadata": {},
   "outputs": [
    {
     "data": {
      "text/plain": [
       "'2014-10-02'"
      ]
     },
     "execution_count": 11,
     "metadata": {},
     "output_type": "execute_result"
    }
   ],
   "source": [
    "nidf['date'].max()"
   ]
  },
  {
   "cell_type": "code",
   "execution_count": 12,
   "id": "conservative-heather",
   "metadata": {},
   "outputs": [
    {
     "data": {
      "text/plain": [
       "DatetimeIndex(['2008-01-01', '2008-01-02', '2008-01-03', '2008-01-04',\n",
       "               '2008-01-05', '2008-01-06', '2008-01-07', '2008-01-08',\n",
       "               '2008-01-09', '2008-01-10',\n",
       "               ...\n",
       "               '2014-09-23', '2014-09-24', '2014-09-25', '2014-09-26',\n",
       "               '2014-09-27', '2014-09-28', '2014-09-29', '2014-09-30',\n",
       "               '2014-10-01', '2014-10-02'],\n",
       "              dtype='datetime64[ns]', length=2467, freq='D')"
      ]
     },
     "execution_count": 12,
     "metadata": {},
     "output_type": "execute_result"
    }
   ],
   "source": [
    "idx = pd.date_range(nidf['date'].min(), nidf['date'].max())\n",
    "idx"
   ]
  },
  {
   "cell_type": "code",
   "execution_count": 13,
   "id": "governmental-detective",
   "metadata": {},
   "outputs": [],
   "source": [
    "result = {}"
   ]
  },
  {
   "cell_type": "code",
   "execution_count": 14,
   "id": "rocky-audience",
   "metadata": {},
   "outputs": [
    {
     "data": {
      "text/plain": [
       "'2008-01-01'"
      ]
     },
     "execution_count": 14,
     "metadata": {},
     "output_type": "execute_result"
    }
   ],
   "source": [
    "cn = country_names[-1]\n",
    "ts = pd.Series(dict(zip(nidf[nidf['country'] == cn]['date'], nidf[nidf['country'] == cn]['download_kbps'])))\n",
    "ts.index = pd.DatetimeIndex(ts.index)\n",
    "ts = ts.reindex(idx, fill_value=-1)\n",
    "str(ts.index.to_list()[0])[:10]"
   ]
  },
  {
   "cell_type": "code",
   "execution_count": 15,
   "id": "interior-province",
   "metadata": {},
   "outputs": [
    {
     "name": "stdout",
     "output_type": "stream",
     "text": [
      "2008-01-01\n",
      "2014-10-02\n"
     ]
    }
   ],
   "source": [
    "result['date'] = [str(date)[:10] for date in ts.index.to_list()]\n",
    "print(result['date'][0])\n",
    "print(result['date'][-1])"
   ]
  },
  {
   "cell_type": "code",
   "execution_count": 16,
   "id": "smaller-obligation",
   "metadata": {},
   "outputs": [],
   "source": [
    "result['countries'] = {}"
   ]
  },
  {
   "cell_type": "code",
   "execution_count": 17,
   "id": "supreme-champion",
   "metadata": {},
   "outputs": [],
   "source": [
    "for cn in country_names:\n",
    "    tmp = {}\n",
    "    ts = pd.Series(dict(zip(nidf[nidf['country'] == cn]['date'], nidf[nidf['country'] == cn]['download_kbps'])))\n",
    "    ts.index = pd.DatetimeIndex(ts.index)\n",
    "    ts = ts.reindex(idx, fill_value=0)\n",
    "    tmp['download_kbps'] = ts.to_list()\n",
    "    ts = pd.Series(dict(zip(nidf[nidf['country'] == cn]['date'], nidf[nidf['country'] == cn]['upload_kbps'])))\n",
    "    ts.index = pd.DatetimeIndex(ts.index)\n",
    "    ts = ts.reindex(idx, fill_value=0)\n",
    "    tmp['upload_kbps'] = ts.to_list()\n",
    "    ts = pd.Series(dict(zip(nidf[nidf['country'] == cn]['date'], nidf[nidf['country'] == cn]['total_tests'])))\n",
    "    ts.index = pd.DatetimeIndex(ts.index)\n",
    "    ts = ts.reindex(idx, fill_value=0)\n",
    "    tmp['total_tests'] = ts.to_list()\n",
    "    result['countries'][cn] = tmp"
   ]
  },
  {
   "cell_type": "code",
   "execution_count": 18,
   "id": "deadly-grammar",
   "metadata": {},
   "outputs": [],
   "source": [
    "with open('global_daily.json', 'w') as f:\n",
    "    f.write(json.dumps(result))"
   ]
  },
  {
   "cell_type": "code",
   "execution_count": 19,
   "id": "accepting-commission",
   "metadata": {},
   "outputs": [
    {
     "name": "stdout",
     "output_type": "stream",
     "text": [
      "2467\n",
      "29 28 28 28 29 28 28\n"
     ]
    }
   ],
   "source": [
    "# count days\n",
    "dim_u = pd.Series([x[:7] for x in result['date']]).unique()\n",
    "dim_vc = pd.Series([x[:7] for x in result['date']]).value_counts().to_dict()\n",
    "dim = [dim_vc[x] for x in dim_u]\n",
    "print(sum(dim))\n",
    "print(dim[1], dim[13], dim[25], dim[37], dim[49], dim[61], dim[73])"
   ]
  },
  {
   "cell_type": "code",
   "execution_count": 20,
   "id": "through-hypothetical",
   "metadata": {},
   "outputs": [],
   "source": [
    "result2 = {\n",
    "    'date': list(dim_u),\n",
    "    'countries': {}\n",
    "}"
   ]
  },
  {
   "cell_type": "code",
   "execution_count": 21,
   "id": "instant-connecticut",
   "metadata": {},
   "outputs": [],
   "source": [
    "for cn in country_names:\n",
    "    # per country\n",
    "    pos = 0\n",
    "    tmp = {\n",
    "        'download_kbps': [],\n",
    "        'upload_kbps': [],\n",
    "        'total_tests': []\n",
    "    }\n",
    "    for d in dim:\n",
    "        # per month\n",
    "        down = []\n",
    "        up = []\n",
    "        total = 0\n",
    "        for p in range(pos, pos + d):\n",
    "            # per day\n",
    "            if result['countries'][cn]['total_tests'][p] != 0:\n",
    "                down.append(result['countries'][cn]['download_kbps'][p])\n",
    "                up.append(result['countries'][cn]['upload_kbps'][p])\n",
    "            total += result['countries'][cn]['total_tests'][p]\n",
    "        pos += d\n",
    "        if total != 0:\n",
    "            tmp['download_kbps'].append(sum(down) / len(down))\n",
    "            tmp['upload_kbps'].append(sum(up) / len(up))\n",
    "        else:\n",
    "            tmp['download_kbps'].append(0)\n",
    "            tmp['upload_kbps'].append(0)\n",
    "        tmp['total_tests'].append(total)\n",
    "    result2['countries'][cn] = tmp"
   ]
  },
  {
   "cell_type": "code",
   "execution_count": 22,
   "id": "regular-istanbul",
   "metadata": {},
   "outputs": [],
   "source": [
    "with open('global_monthly.json', 'w') as f:\n",
    "    f.write(json.dumps(result2))"
   ]
  },
  {
   "cell_type": "code",
   "execution_count": null,
   "id": "reported-approach",
   "metadata": {},
   "outputs": [],
   "source": []
  }
 ],
 "metadata": {
  "kernelspec": {
   "display_name": "Python 3",
   "language": "python",
   "name": "python3"
  },
  "language_info": {
   "codemirror_mode": {
    "name": "ipython",
    "version": 3
   },
   "file_extension": ".py",
   "mimetype": "text/x-python",
   "name": "python",
   "nbconvert_exporter": "python",
   "pygments_lexer": "ipython3",
   "version": "3.7.10"
  }
 },
 "nbformat": 4,
 "nbformat_minor": 5
}
